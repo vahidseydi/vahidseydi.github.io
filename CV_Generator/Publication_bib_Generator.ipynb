{
 "cells": [
  {
   "cell_type": "markdown",
   "metadata": {},
   "source": [
    "@article{p11,\n",
    "\ttitle={Using users’ reviews to improve the performance of Matrix Factorization in Recommender Systems},\n",
    "\tauthor={Nafari, Shiva and Seydi, Vahid and Hosseikhani, Hamidreza},\n",
    "\tjournal={International Journal of Society Systems Science},\n",
    "\tvolume={Accepted to publish in Vol 12},\n",
    "\tyear={2020},\n",
    "\tpublisher={INDERSCIENCE Publisher}\n",
    "}\n",
    "@inproceedings{p10,\n",
    "  Title={Adaptive Fuzzy Influence Function for Cultural Algorithm},\n",
    "  Author={Seydi, Vahid},\n",
    "  Booktitle={2015 SAI Intelligent Systems Conference (IntelliSys)},\n",
    "  Pages={692--697},\n",
    "  Year={2015},\n",
    "  Organization={IEEE}"
   ]
  },
  {
   "cell_type": "markdown",
   "metadata": {},
   "source": [
    "\\item[-]\t\n",
    "\t\tS Lotfi, M Mirzarezaee, M Hosseinzadeh,\\textbf{V Seydi}\n",
    "\t\t(2021).\t\n",
    "\t\tAnalysis of Structural Features in Rumor Conversations Detection in Twitter\n",
    "\t\t\\textit{Signal and Data Processing}."
   ]
  },
  {
   "cell_type": "code",
   "execution_count": 1,
   "metadata": {},
   "outputs": [],
   "source": [
    "import docx \n",
    "from docx.shared import Pt\n",
    "from docx.shared import Inches\n",
    "from docx.enum.text import WD_ALIGN_PARAGRAPH\n",
    "import yaml"
   ]
  },
  {
   "cell_type": "code",
   "execution_count": 2,
   "metadata": {},
   "outputs": [],
   "source": [
    "document_name = \"references_Latex_auto.docx\"\n"
   ]
  },
  {
   "cell_type": "code",
   "execution_count": 3,
   "metadata": {},
   "outputs": [],
   "source": [
    "with open(\"publications.yml\", 'r') as stream:\n",
    "    try:\n",
    "        parsed_yaml=yaml.safe_load(stream)\n",
    "    except yaml.YAMLError as exc:\n",
    "        print(exc)"
   ]
  },
  {
   "cell_type": "code",
   "execution_count": 4,
   "metadata": {},
   "outputs": [
    {
     "data": {
      "text/plain": [
       "{'id': 'hassanpour2022survey',\n",
       " 'type': 'article',\n",
       " 'statuse': 'published',\n",
       " 'title': 'A Survey on Adversarial Domain Adaptation',\n",
       " 'author': 'HassanPour Zonoozi, Mahta and Seydi, Vahid',\n",
       " 'author2': 'HassanPour Zonoozi, M. & Seydi, V.',\n",
       " 'short_author': 'HassanPour et al.',\n",
       " 'journal': 'Neural Processing Letters',\n",
       " 'volume': None,\n",
       " 'number': None,\n",
       " 'pages': None,\n",
       " 'year': 2022,\n",
       " 'publisher': 'Springer Nature',\n",
       " 'link': 'https://link.springer.com/article/10.1007/s11063-022-10977-5',\n",
       " 'doi': 'https://doi.org/10.1007/s11063-022-10977-5',\n",
       " 'CA': True}"
      ]
     },
     "execution_count": 4,
     "metadata": {},
     "output_type": "execute_result"
    }
   ],
   "source": [
    "parsed_yaml['publications'][0]"
   ]
  },
  {
   "cell_type": "markdown",
   "metadata": {},
   "source": [
    "author2 (year). title. journal, volume(number), pages, doi"
   ]
  },
  {
   "cell_type": "code",
   "execution_count": 5,
   "metadata": {},
   "outputs": [],
   "source": [
    "Check_CA = False\n",
    "Journal_Flag=True\n",
    "Conf_Flag = True\n",
    "\n",
    "document = docx.Document()\n",
    "\n",
    "style = document.styles['Normal']\n",
    "font = style.font\n",
    "font.name = 'Arial'\n",
    "font.size = Pt(11)\n",
    "\n",
    "author_me = 'Seydi, V.'\n",
    "for r in parsed_yaml['publications']:\n",
    "    \n",
    "    CA_Flag= r['CA']\n",
    "    if CA_Flag==False and Check_CA==True:\n",
    "        continue\n",
    "    if Conf_Flag==False and  r['type']!='article':\n",
    "        continue\n",
    "    \n",
    "    author_befor = None\n",
    "    author_after  = None\n",
    "    year = None\n",
    "    title = None\n",
    "    journal = None\n",
    "    volume = None\n",
    "    number = None\n",
    "    pages = None\n",
    "    doi = None\n",
    "    \n",
    "    author_befor = r['author2'].split(author_me,1)[0]    \n",
    "    author_after = r['author2'].split(author_me,1)[1]\n",
    "    \n",
    "    year = str(r['year'])\n",
    "    \n",
    "    title= r['title']\n",
    "    \n",
    "    p = document.add_paragraph('\\item[-] ')\n",
    "    p.add_run(author_befor)\n",
    "    p.add_run(r'\\textbf{')\n",
    "    p.add_run(author_me)\n",
    "    p.add_run('}')\n",
    "    p.add_run(author_after)\n",
    "    p.add_run(' (')\n",
    "    p.add_run(year)\n",
    "    p.add_run('). ')\n",
    "    p.add_run(title)\n",
    "    p.add_run('. ')\n",
    "    \n",
    "    \n",
    "    \n",
    "    if r['type']=='article':\n",
    "        journal= r['journal']        \n",
    "    else:\n",
    "        journal= r['booktitle']\n",
    "    p.add_run(r'\\textit{')\n",
    "    p.add_run(journal)\n",
    "    p.add_run('}')\n",
    "    if 'volume' in r.keys():        \n",
    "        volume= str(r['volume'])\n",
    "        if volume !='None':\n",
    "            p.add_run(', ')\n",
    "            p.add_run(volume)\n",
    "    \n",
    "    if 'number' in r.keys():        \n",
    "            number = str(r['number'])\n",
    "            if number!='None':\n",
    "                p.add_run('(')\n",
    "                p.add_run(number)\n",
    "                p.add_run(')')                \n",
    "    \n",
    "   \n",
    "    if 'pages' in r.keys():\n",
    "        pages = r['pages']\n",
    "        if pages!='None':\n",
    "            p.add_run(', ')\n",
    "            p.add_run(pages)        \n",
    "        \n",
    "    if 'doi' in r.keys():\n",
    "        doi= r['doi']\n",
    "        #p.add_run(doi)\n",
    "\n",
    "    p.add_run('.')  \n",
    "    p.add_run(r'\\\\')\n",
    "    \n",
    "    #p.alignment =WD_ALIGN_PARAGRAPH.JUSTIFY_HI\n",
    "    p.paragraph_format.alignment = WD_ALIGN_PARAGRAPH.JUSTIFY\n",
    "    #p.paragraph_format.space_before\n",
    "    p.paragraph_format.space_after  = Pt(6)\n",
    "    p.paragraph_format.line_spacing = Pt(12)\n",
    "    p.paragraph_format.keep_together =True\n",
    "    p.paragraph_format.left_indent = Inches(0.8)#Pt(0)\n",
    "    p.paragraph_format.right_indent =Pt(0)\n",
    "\n",
    "\n",
    "    \n",
    "   \n",
    "    "
   ]
  },
  {
   "cell_type": "code",
   "execution_count": 6,
   "metadata": {},
   "outputs": [],
   "source": [
    "document.save(document_name)"
   ]
  },
  {
   "cell_type": "markdown",
   "metadata": {},
   "source": [
    "###### bold: The text appears in bold.\n",
    "###### italic: The text appears in italic.\n",
    "###### underline: The text is underlined.\n",
    "###### strike: The text appears with strikethrough.\n",
    "###### double_strike: The text appears with double strikethrough.\n",
    "###### all_caps: The text appears in capital letters.\n",
    "###### small_caps:The text appears in capital letters, with lowercase letters two points smaller.\n",
    "###### shadow: The text appears with a shadow.\n",
    "###### outline: The text appears outlined rather than solid.\n",
    "###### rtl: The text is written right-to-left.\n",
    "###### imprint: The text appears pressed into the page.\n",
    "###### emboss: The text appears raised off the page in relief."
   ]
  },
  {
   "cell_type": "code",
   "execution_count": null,
   "metadata": {},
   "outputs": [],
   "source": []
  }
 ],
 "metadata": {
  "hide_input": false,
  "kernelspec": {
   "display_name": "Python 3",
   "language": "python",
   "name": "python3"
  },
  "language_info": {
   "codemirror_mode": {
    "name": "ipython",
    "version": 3
   },
   "file_extension": ".py",
   "mimetype": "text/x-python",
   "name": "python",
   "nbconvert_exporter": "python",
   "pygments_lexer": "ipython3",
   "version": "3.8.3"
  }
 },
 "nbformat": 4,
 "nbformat_minor": 4
}
