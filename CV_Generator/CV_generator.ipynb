{
 "cells": [
  {
   "cell_type": "code",
   "execution_count": 89,
   "metadata": {},
   "outputs": [],
   "source": [
    "import pylatexenc\n",
    "from pylatexenc.latexwalker import LatexWalker\n",
    "import yaml\n",
    "from pylatexenc.latex2text import LatexNodes2Text\n",
    "import subprocess, os\n"
   ]
  },
  {
   "cell_type": "code",
   "execution_count": 83,
   "metadata": {},
   "outputs": [],
   "source": [
    "with open('header.tex','r') as headerfile:\n",
    "    latex =  headerfile.read()\n"
   ]
  },
  {
   "cell_type": "code",
   "execution_count": 84,
   "metadata": {},
   "outputs": [
    {
     "name": "stdout",
     "output_type": "stream",
     "text": [
      "\n",
      "\n",
      "\n",
      " \n",
      "\n",
      "\n",
      "\n",
      "\t\n",
      "\n",
      "\n",
      " \n",
      "\n",
      "\n",
      "\n",
      "\n",
      "\tcontent\n",
      "\n"
     ]
    }
   ],
   "source": [
    "text = LatexNodes2Text().latex_to_text(latex)\n",
    "print(text)"
   ]
  },
  {
   "cell_type": "code",
   "execution_count": 85,
   "metadata": {},
   "outputs": [],
   "source": [
    "research_interests=['name','models','applications']\n",
    "education = ['degree','start','end','loc','Thesis','Concentrations','Mentors','GPA']\n",
    "academic_positions = ['job','start','end','loc','desc']\n",
    "teaching =['degree','start','end','courses']\n",
    "awards = ['award','date','loc','desc']\n",
    "skills=None"
   ]
  },
  {
   "cell_type": "code",
   "execution_count": 86,
   "metadata": {},
   "outputs": [],
   "source": [
    "with open(\"../_data/data.yml\", 'r') as stream:\n",
    "    try:\n",
    "        parsed_yaml=yaml.safe_load(stream)\n",
    "    except yaml.YAMLError as exc:\n",
    "        print(exc)"
   ]
  },
  {
   "cell_type": "code",
   "execution_count": 95,
   "metadata": {},
   "outputs": [
    {
     "data": {
      "text/plain": [
       "{'degree': 'School of Artificial Intelligence',\n",
       " 'start': 'April 2019',\n",
       " 'end': 'July 2019',\n",
       " 'loc': 'Pi School, Pi Campus, Rome, Italy (one of 20 merit-based full scholarships)\\n',\n",
       " 'loc_link': 'https://picampus-school.com/programme/school-of-ai/',\n",
       " 'Thesis': 'Predicting failures in medium voltage lines from sequence of SCADA events. (Sponsored By enel)\\n',\n",
       " 'Concentrations': 'Deep Learning, categorical time series prediction, anomaly detection\\n(supervised and unsupervised), generative models, embedding methods.\\n',\n",
       " 'Mentors': 'Sbastien Bratires from university of Cambridge and director of AI in\\nTranslated; & Francesco Mosconi, CEO and Chief Data Scientist at\\nCATALIT, San Francisco, California.\\n'}"
      ]
     },
     "execution_count": 95,
     "metadata": {},
     "output_type": "execute_result"
    }
   ],
   "source": [
    "parsed_yaml['education'][0]"
   ]
  },
  {
   "cell_type": "code",
   "execution_count": 87,
   "metadata": {},
   "outputs": [],
   "source": [
    "with open(\"education_sec.tex\", 'r') as tex_file:\n",
    "    edu_tex_temp =tex_file.read()\n",
    "edu_tex_proc = \"\"\n",
    "for sec in parsed_yaml['education']: \n",
    "    edu_tex_proc += edu_tex_temp\n",
    "    for key, value in sec.items():\n",
    "        edu_tex_proc = edu_tex_proc.replace('$'+key+'$', value)\n",
    "\n",
    "edu_tex_proc = r'\\begin{rSection}{Education}'+'\\n'+ edu_tex_proc + '\\n' +  r'\\end{rSection}{Education}'\n",
    "latex = latex.replace(\"content\",edu_tex_proc)\n",
    "with open('education_sec_proc.tex', 'w') as output:\n",
    "     output.write(latex)        \n",
    "       \n",
    "\n"
   ]
  },
  {
   "cell_type": "code",
   "execution_count": 94,
   "metadata": {},
   "outputs": [],
   "source": [
    "x = subprocess.call('pdflatex education_sec_proc.tex')\n",
    "if x != 0:\n",
    "    print('Exit-code not 0, check result!')\n",
    "else:\n",
    "    os.system('start education_sec_proc.pdf')"
   ]
  },
  {
   "cell_type": "code",
   "execution_count": null,
   "metadata": {},
   "outputs": [],
   "source": []
  }
 ],
 "metadata": {
  "hide_input": false,
  "kernelspec": {
   "display_name": "Python 3",
   "language": "python",
   "name": "python3"
  },
  "language_info": {
   "codemirror_mode": {
    "name": "ipython",
    "version": 3
   },
   "file_extension": ".py",
   "mimetype": "text/x-python",
   "name": "python",
   "nbconvert_exporter": "python",
   "pygments_lexer": "ipython3",
   "version": "3.8.3"
  }
 },
 "nbformat": 4,
 "nbformat_minor": 4
}
